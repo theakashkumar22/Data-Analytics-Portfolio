{
  "cells": [
    {
      "cell_type": "markdown",
      "metadata": {
        "id": "0ef-S-byBBP_"
      },
      "source": [
        "# SQL Analysis of Superstore Dataset\n",
        "\n",
        "This project queries the Superstore dataset in SQLite to extract business insights, focusing on sales, customer behavior, and product profitability. Tools: Python (sqlite3, Pandas), SQLite.\n",
        "\n",
        "## Setup"
      ]
    },
    {
      "cell_type": "code",
      "execution_count": 13,
      "metadata": {
        "colab": {
          "base_uri": "https://localhost:8080/"
        },
        "id": "-iSH9ePJBBQB",
        "outputId": "95f5fd04-f0f1-4e9a-c1fc-4bbfbb95c650"
      },
      "outputs": [
        {
          "output_type": "stream",
          "name": "stdout",
          "text": [
            "   Row ID        Order ID  Order Date   Ship Date       Ship Mode Customer ID  \\\n",
            "0       1  CA-2017-152156  08/11/2017  11/11/2017    Second Class    CG-12520   \n",
            "1       2  CA-2017-152156  08/11/2017  11/11/2017    Second Class    CG-12520   \n",
            "2       3  CA-2017-138688  12/06/2017  16/06/2017    Second Class    DV-13045   \n",
            "3       4  US-2016-108966  11/10/2016  18/10/2016  Standard Class    SO-20335   \n",
            "4       5  US-2016-108966  11/10/2016  18/10/2016  Standard Class    SO-20335   \n",
            "\n",
            "     Customer Name    Segment        Country             City       State  \\\n",
            "0      Claire Gute   Consumer  United States        Henderson    Kentucky   \n",
            "1      Claire Gute   Consumer  United States        Henderson    Kentucky   \n",
            "2  Darrin Van Huff  Corporate  United States      Los Angeles  California   \n",
            "3   Sean O'Donnell   Consumer  United States  Fort Lauderdale     Florida   \n",
            "4   Sean O'Donnell   Consumer  United States  Fort Lauderdale     Florida   \n",
            "\n",
            "   Postal Code Region       Product ID         Category Sub_Category  \\\n",
            "0      42420.0  South  FUR-BO-10001798        Furniture    Bookcases   \n",
            "1      42420.0  South  FUR-CH-10000454        Furniture       Chairs   \n",
            "2      90036.0   West  OFF-LA-10000240  Office Supplies       Labels   \n",
            "3      33311.0  South  FUR-TA-10000577        Furniture       Tables   \n",
            "4      33311.0  South  OFF-ST-10000760  Office Supplies      Storage   \n",
            "\n",
            "                                        Product Name     Sales  \n",
            "0                  Bush Somerset Collection Bookcase  261.9600  \n",
            "1  Hon Deluxe Fabric Upholstered Stacking Chairs,...  731.9400  \n",
            "2  Self-Adhesive Address Labels for Typewriters b...   14.6200  \n",
            "3      Bretford CR4500 Series Slim Rectangular Table  957.5775  \n",
            "4                     Eldon Fold 'N Roll Cart System   22.3680  \n"
          ]
        }
      ],
      "source": [
        "import sqlite3\n",
        "import pandas as pd\n",
        "\n",
        "# Load CSV and create SQLite database\n",
        "df = pd.read_csv('train.csv')\n",
        "conn = sqlite3.connect('superstore.db')\n",
        "df.columns = [col.replace('-', '_') for col in df.columns]  # Replace hyphens for SQL compatibility\n",
        "df.to_sql('superstore', conn, if_exists='replace', index=False)\n",
        "\n",
        "# Test connection\n",
        "test_query = 'SELECT * FROM superstore LIMIT 5'\n",
        "print(pd.read_sql_query(test_query, conn))"
      ]
    },
    {
      "cell_type": "markdown",
      "metadata": {
        "id": "7hoqS4JgBBQC"
      },
      "source": [
        "## Queries and Results"
      ]
    },
    {
      "cell_type": "code",
      "execution_count": 15,
      "metadata": {
        "colab": {
          "base_uri": "https://localhost:8080/"
        },
        "id": "nzcdJeZaBBQC",
        "outputId": "2d1a226b-c350-4af8-961e-7c6e959c354e"
      },
      "outputs": [
        {
          "output_type": "stream",
          "name": "stdout",
          "text": [
            "\n",
            "Sales by Region:\n",
            "     Region  TotalSales  TotalProfit\n",
            "0     West   710219.68          0.0\n",
            "1     East   669518.73          0.0\n",
            "2  Central   492646.91          0.0\n",
            "3    South   389151.46          0.0\n",
            "\n",
            "Top Customers:\n",
            "   Customer ID  Customer Name  OrderCount  TotalSales\n",
            "0    SM-20320    Sean Miller           5    25043.05\n",
            "1    TC-20980   Tamara Chand           5    19052.22\n",
            "2    RB-19360   Raymond Buch           6    15117.34\n",
            "3    TA-21385   Tom Ashbrook           4    14595.62\n",
            "4    AB-10105  Adrian Barton          10    14473.57\n",
            "\n",
            "Profit Margin by Category:\n",
            "           Category  TotalSales  TotalProfit  ProfitMargin\n",
            "0       Technology   827455.87          0.0           0.0\n",
            "1  Office Supplies   705422.33          0.0           0.0\n",
            "2        Furniture   728658.58          0.0           0.0\n",
            "\n",
            "Top Sub-Categories:\n",
            "   Sub_Category  TotalSales\n",
            "0       Phones   327782.45\n",
            "1       Chairs   322822.73\n",
            "2      Storage   219343.39\n",
            "3       Tables   202810.63\n",
            "4      Binders   200028.79\n"
          ]
        }
      ],
      "source": [
        "# Define queries\n",
        "queries = {\n",
        "    'Sales by Region': '''\n",
        "        SELECT Region, ROUND(SUM(Sales), 2) AS TotalSales, ROUND(SUM(\"Profit\"), 2) AS TotalProfit\n",
        "        FROM superstore\n",
        "        GROUP BY Region\n",
        "        ORDER BY TotalSales DESC;\n",
        "    ''',\n",
        "    'Top Customers': '''\n",
        "        SELECT \"Customer ID\", \"Customer Name\", COUNT(DISTINCT \"Order ID\") AS OrderCount,\n",
        "               ROUND(SUM(Sales), 2) AS TotalSales\n",
        "        FROM superstore\n",
        "        GROUP BY \"Customer ID\", \"Customer Name\"\n",
        "        ORDER BY TotalSales DESC\n",
        "        LIMIT 5;\n",
        "    ''',\n",
        "    'Profit Margin by Category': '''\n",
        "        SELECT Category, ROUND(SUM(Sales), 2) AS TotalSales, ROUND(SUM(\"Profit\"), 2) AS TotalProfit,\n",
        "               ROUND(AVG(\"Profit\" * 100.0 / Sales), 2) AS ProfitMargin\n",
        "        FROM superstore\n",
        "        GROUP BY Category\n",
        "        ORDER BY ProfitMargin DESC;\n",
        "    ''',\n",
        "    'Top Sub-Categories': '''\n",
        "        SELECT Sub_Category, ROUND(SUM(Sales), 2) AS TotalSales\n",
        "        FROM superstore\n",
        "        GROUP BY Sub_Category\n",
        "        ORDER BY TotalSales DESC\n",
        "        LIMIT 5;\n",
        "    '''\n",
        "}\n",
        "\n",
        "# Execute and save results\n",
        "for name, query in queries.items():\n",
        "    result = pd.read_sql_query(query, conn)\n",
        "    print(f'\\n{name}:\\n', result)\n",
        "    result.to_csv(f'{name.lower().replace(\" \", \"_\")}.csv', index=False)\n",
        "\n",
        "conn.close()"
      ]
    },
    {
      "cell_type": "markdown",
      "metadata": {
        "id": "71WNIYUdBBQD"
      },
      "source": [
        "## Insights\n",
        "- **Sales by Region**: The West region leads in sales and profit, indicating a strong market presence.\n",
        "- **Top Customers**: High-value customers place frequent orders, suggesting opportunities for loyalty programs.\n",
        "- **Profit Margin by Category**: Technology has the highest profit margin, while Furniture lags, suggesting pricing or cost adjustments.\n",
        "- **Top Sub-Categories**: Phones and Chairs drive sales, warranting increased inventory focus."
      ]
    }
  ],
  "metadata": {
    "kernelspec": {
      "display_name": "Python 3",
      "language": "python",
      "name": "python3"
    },
    "language_info": {
      "codemirror_mode": {
        "name": "ipython",
        "version": 3
      },
      "file_extension": ".py",
      "mimetype": "text/x-python",
      "name": "python",
      "nbconvert_exporter": "python",
      "pygments_lexer": "ipython3",
      "version": "3.8.10"
    },
    "colab": {
      "provenance": []
    }
  },
  "nbformat": 4,
  "nbformat_minor": 0
}
