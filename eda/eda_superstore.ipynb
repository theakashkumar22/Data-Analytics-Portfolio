import pandas as pd
import matplotlib.pyplot as plt
import seaborn as sns
from datetime import datetime

# Load dataset
df = pd.read_csv('superstore.csv')

# Data cleaning
df['Order Date'] = pd.to_datetime(df['Order Date'])  # Convert to datetime
df['Ship Date'] = pd.to_datetime(df['Ship Date'])
df.drop_duplicates(inplace=True)  # Remove duplicates
df.fillna({'Postal Code': df['Postal Code'].mode()[0]}, inplace=True)  # Fill missing postal codes

# Summary statistics
print("Summary Statistics:")
print(df.describe())
print("\nSales by Category:")
print(df.groupby('Category')['Sales'].sum())

# Visualization 1: Sales by Category
plt.figure(figsize=(8, 6))
sns.barplot(x='Category', y='Sales', data=df.groupby('Category')['Sales'].sum().reset_index())
plt.title('Total Sales by Product Category')
plt.ylabel('Sales ($)')
plt.savefig('sales_by_category.png')
plt.show()

# Visualization 2: Sales over Time
df['YearMonth'] = df['Order Date'].dt.to_period('M')
sales_over_time = df.groupby('YearMonth')['Sales'].sum()
sales_over_time.plot(kind='line', figsize=(10, 6), title='Sales Trend Over Time')
plt.ylabel('Sales ($)')
plt.xlabel('Year-Month')
plt.savefig('sales_trend.png')
plt.show()

# Visualization 3: Correlation Heatmap
numeric_cols = ['Sales', 'Quantity', 'Discount', 'Profit']
plt.figure(figsize=(8, 6))
sns.heatmap(df[numeric_cols].corr(), annot=True, cmap='coolwarm', center=0)
plt.title('Correlation Heatmap of Numeric Features')
plt.savefig('correlation_heatmap.png')
plt.show()

# Insights
print("\nKey Insights:")
print("- Technology category has the highest sales.")
print("- Sales show seasonal peaks in November/December.")
print("- Profit is moderately correlated with sales but negatively with discount.")
