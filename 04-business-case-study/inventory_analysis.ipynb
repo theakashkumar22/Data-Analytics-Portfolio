{
 "cells": [
  {
   "cell_type": "markdown",
   "metadata": {},
   "source": [
    "# Inventory Optimization Case Study for Superstore Dataset\n",
    "\n",
    "This project analyzes the Superstore dataset to optimize inventory by identifying high- and low-performing product categories and sub-categories based on sales, tailored for a Trainee Analyst role at MathCo.\n",
    "\n",
    "## Setup and Data Exploration"
   ]
  },
  {
   "cell_type": "code",
   "execution_count": null,
   "metadata": {},
   "outputs": [],
   "source": [
    "import pandas as pd\n",
    "import matplotlib.pyplot as plt\n",
    "import seaborn as sns\n",
    "\n",
    "# Load dataset\n",
    "df = pd.read_csv('data/superstore.csv')\n",
    "\n",
    "# Explore dataset\n",
    "print('Dataset Info:')\n",
    "print(df.info())\n",
    "print('\\nSummary Statistics for Sales:')\n",
    "print(df['Sales'].describe())\n",
    "print('\\nMissing Values:')\n",
    "print(df[['Sales', 'Category', 'Sub-Category']].isnull().sum())\n",
    "print('\\nCategory Values:', df['Category'].unique())\n",
    "print('Sub-Category Values:', df['Sub-Category'].unique())"
   ]
  },
  {
   "cell_type": "markdown",
   "metadata": {},
   "source": [
    "## Analysis"
   ]
  },
  {
   "cell_type": "code",
   "execution_count": null,
   "metadata": {},
   "outputs": [],
   "source": [
    "# Aggregate sales by category and sub-category\n",
    "category_analysis = df.groupby('Category').agg({\n",
    "    'Sales': ['sum', 'mean', 'count'],\n",
    "    'Order ID': 'nunique'\n",
    "}).round(2)\n",
    "category_analysis.columns = ['Total_Sales', 'Avg_Sales_per_Order', 'Order_Count', 'Unique_Orders']\n",
    "category_analysis = category_analysis.sort_values('Total_Sales', ascending=False)\n",
    "\n",
    "subcategory_analysis = df.groupby('Sub-Category').agg({\n",
    "    'Sales': ['sum', 'mean', 'count'],\n",
    "    'Order ID': 'nunique'\n",
    "}).round(2)\n",
    "subcategory_analysis.columns = ['Total_Sales', 'Avg_Sales_per_Order', 'Order_Count', 'Unique_Orders']\n",
    "subcategory_analysis = subcategory_analysis.sort_values('Total_Sales', ascending=False)\n",
    "\n",
    "print('Sales by Category:\\n', category_analysis)\n",
    "print('\\nSales by Sub-Category:\\n', subcategory_analysis)\n",
    "\n",
    "# Save to CSV\n",
    "category_analysis.to_csv('category_analysis.csv')\n",
    "subcategory_analysis.to_csv('subcategory_analysis.csv')"
   ]
  },
  {
   "cell_type": "markdown",
   "metadata": {},
   "source": [
    "## Visualizations"
   ]
  },
  {
   "cell_type": "code",
   "execution_count": null,
   "metadata": {},
   "outputs": [],
   "source": [
    "# Sales by Category\n",
    "plt.figure(figsize=(8, 6))\n",
    "sns.barplot(x='Total_Sales', y=category_analysis.index, data=category_analysis)\n",
    "plt.title('Total Sales by Category')\n",
    "plt.xlabel('Total Sales ($)')\n",
    "plt.savefig('sales_by_category.png')\n",
    "plt.show()\n",
    "\n",
    "# Sales by Sub-Category (Top 10)\n",
    "plt.figure(figsize=(10, 6))\n",
    "sns.barplot(x='Total_Sales', y=subcategory_analysis.index[:10], data=subcategory_analysis.head(10))\n",
    "plt.title('Top 10 Sub-Categories by Sales')\n",
    "plt.xlabel('Total Sales ($)')\n",
    "plt.savefig('sales_by_subcategory.png')\n",
    "plt.show()"
   ]
  },
  {
   "cell_type": "markdown",
   "metadata": {},
   "source": [
    "## Insights and Recommendations\n",
    "- **High Performers**: Technology category and sub-categories like Phones and Chairs have the highest sales, indicating strong demand.\n",
    "- **Low Performers**: Sub-categories like Bookcases and Tables have lower sales, suggesting overstocking or lack of demand.\n",
    "- **Recommendations**:\n",
    "  - Increase inventory for Technology (especially Phones) to meet demand.\n",
    "  - Reduce stock for low-sales sub-categories like Bookcases to minimize costs.\n",
    "  - Explore marketing strategies for underperforming sub-categories to boost sales."
   ]
  }
 ],
 "metadata": {
  "kernelspec": {
   "display_name": "Python 3",
   "language": "python",
   "name": "python3"
  },
  "language_info": {
   "codemirror_mode": {
    "name": "ipython",
    "version": 3
   },
   "file_extension": ".py",
   "mimetype": "text/x-python",
   "name": "python",
   "nbconvert_exporter": "python",
   "pygments_lexer": "ipython3",
   "version": "3.8.10"
  }
 },
 "nbformat": 4,
 "nbformat_minor": 4
}
